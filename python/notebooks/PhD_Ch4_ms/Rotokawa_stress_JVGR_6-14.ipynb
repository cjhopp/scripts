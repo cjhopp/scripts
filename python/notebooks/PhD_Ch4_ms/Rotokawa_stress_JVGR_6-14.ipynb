{
 "cells": [
  {
   "cell_type": "markdown",
   "metadata": {},
   "source": [
    "6-14-2019: Chet Hopp\n",
    "\n",
    "Extending stress analysis at Rotokawa for JVGR submission"
   ]
  },
  {
   "cell_type": "code",
   "execution_count": 1,
   "metadata": {},
   "outputs": [],
   "source": [
    "%autoreload 2"
   ]
  },
  {
   "cell_type": "code",
   "execution_count": 9,
   "metadata": {
    "collapsed": true
   },
   "outputs": [
    {
     "name": "stdout",
     "output_type": "stream",
     "text": [
      "FMC files not on your path\n",
      "Probably on the server, no sklearn for you\n",
      "HashPy not installed in this env, fool.\n",
      "MTfit not installed in this env, fool\n"
     ]
    },
    {
     "data": {
      "text/html": [
       "        <script type=\"text/javascript\">\n",
       "        window.PlotlyConfig = {MathJaxConfig: 'local'};\n",
       "        if (window.MathJax) {MathJax.Hub.Config({SVG: {font: \"STIX-Web\"}});}\n",
       "        if (typeof require !== 'undefined') {\n",
       "        require.undef(\"plotly\");\n",
       "        requirejs.config({\n",
       "            paths: {\n",
       "                'plotly': ['https://cdn.plot.ly/plotly-latest.min']\n",
       "            }\n",
       "        });\n",
       "        require(['plotly'], function(Plotly) {\n",
       "            window._Plotly = Plotly;\n",
       "        });\n",
       "        }\n",
       "        </script>\n",
       "        "
      ]
     },
     "metadata": {},
     "output_type": "display_data"
    }
   ],
   "source": [
    "from plotly.offline import init_notebook_mode\n",
    "init_notebook_mode(connected=True)"
   ]
  },
  {
   "cell_type": "code",
   "execution_count": 2,
   "metadata": {
    "collapsed": true
   },
   "outputs": [
    {
     "name": "stdout",
     "output_type": "stream",
     "text": [
      "FMC files not on your path\n",
      "HashPy not installed in this env\n",
      "Probably on the server, no sklearn for you\n",
      "HashPy not installed in this env, fool.\n",
      "MTfit not installed in this env, fool\n"
     ]
    }
   ],
   "source": [
    "from focal_mecs import plot_clust_cats_3d"
   ]
  },
  {
   "cell_type": "code",
   "execution_count": 3,
   "metadata": {},
   "outputs": [],
   "source": [
    "from obspy import read_events"
   ]
  },
  {
   "cell_type": "code",
   "execution_count": 4,
   "metadata": {},
   "outputs": [],
   "source": [
    "from glob import glob"
   ]
  },
  {
   "cell_type": "markdown",
   "metadata": {},
   "source": [
    "Read in the catalogs for each kmeans cluster (n=30)\n",
    "\n",
    "I put these in the Arnold-Townend/Rstess folder, for whatever reason..."
   ]
  },
  {
   "cell_type": "code",
   "execution_count": 5,
   "metadata": {},
   "outputs": [],
   "source": [
    "clust_cats = glob('/home/chet/Arnold_Townend/Rstess/indata/Rot/kmeans/GC_detection_locs/Rot_temps_dets_kmeans_30/catalogs_>20/*')"
   ]
  },
  {
   "cell_type": "markdown",
   "metadata": {},
   "source": [
    "Sort these by the cluster number in filename (just before file extension)"
   ]
  },
  {
   "cell_type": "code",
   "execution_count": 6,
   "metadata": {},
   "outputs": [],
   "source": [
    "clust_cats.sort(key=lambda x: float(x.split('_')[-1].rstrip('.xml')))"
   ]
  },
  {
   "cell_type": "code",
   "execution_count": 7,
   "metadata": {},
   "outputs": [],
   "source": [
    "clust_cats_xml = [read_events(c) for c in clust_cats]"
   ]
  },
  {
   "cell_type": "markdown",
   "metadata": {},
   "source": [
    "The following command for plotting the 3D hypos with plotly. Firefox 67.0.1 not allowing WebGL to operate for scatter3D for some reason. Chrome works fine (6-14-2019)"
   ]
  },
  {
   "cell_type": "code",
   "execution_count": 13,
   "metadata": {
    "collapsed": true
   },
   "outputs": [
    {
     "name": "stdout",
     "output_type": "stream",
     "text": [
      "FMC files not on your path\n",
      "Probably on the server, no sklearn for you\n",
      "HashPy not installed in this env, fool.\n",
      "MTfit not installed in this env, fool\n",
      "No surfaces fitted\n",
      "No surfaces fitted\n",
      "No surfaces fitted\n",
      "No surfaces fitted\n",
      "No surfaces fitted\n",
      "No surfaces fitted\n",
      "No surfaces fitted\n",
      "No surfaces fitted\n",
      "No surfaces fitted\n",
      "No surfaces fitted\n",
      "No surfaces fitted\n",
      "No surfaces fitted\n",
      "No surfaces fitted\n",
      "No surfaces fitted\n"
     ]
    }
   ],
   "source": [
    "plot_clust_cats_3d(cluster_cats=clust_cats_xml, outfile='FM kmeans 30', field='Rot', surface=None, offline=False)"
   ]
  },
  {
   "cell_type": "code",
   "execution_count": null,
   "metadata": {},
   "outputs": [],
   "source": []
  }
 ],
 "metadata": {
  "kernelspec": {
   "display_name": "Python 3",
   "language": "python",
   "name": "python3"
  },
  "language_info": {
   "codemirror_mode": {
    "name": "ipython",
    "version": 3
   },
   "file_extension": ".py",
   "mimetype": "text/x-python",
   "name": "python",
   "nbconvert_exporter": "python",
   "pygments_lexer": "ipython3",
   "version": "3.7.3"
  }
 },
 "nbformat": 4,
 "nbformat_minor": 2
}
