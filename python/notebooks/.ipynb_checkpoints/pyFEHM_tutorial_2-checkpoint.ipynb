{
 "cells": [
  {
   "cell_type": "markdown",
   "metadata": {},
   "source": [
    "# pyFEHM Tutorial Part 2: EGS Case study"
   ]
  },
  {
   "cell_type": "code",
   "execution_count": null,
   "metadata": {},
   "outputs": [],
   "source": [
    "# Initial setup\n",
    "from fdata import *\n",
    "from fpost import *\n",
    "\n",
    "dat = fdata(work_dir='tutorial2')"
   ]
  },
  {
   "cell_type": "markdown",
   "metadata": {},
   "source": [
    "### GRID GENERATION\n",
    "\n",
    "Because we will model injection and production against fixed pressures,\n",
    "it is crucial that pressure gradients in the vicinity of the well be\n",
    "fully-resolved. To this end, it will be useful to have a mesh with\n",
    "variable resolution: fgrid.make() is useful for generating such meshes.\n",
    "\n",
    "First, lets define some dimensions for the mesh. We want it to extend 1\n",
    "km in each of the horizontal dimensions, and span between -500 and -1500 m\n",
    "depth (assuming z = 0 corresponds to the surface)."
   ]
  },
  {
   "cell_type": "code",
   "execution_count": null,
   "metadata": {},
   "outputs": [],
   "source": [
    "X0, X1 = 0, 1.e3\n",
    "Z0, Z1 = -1.5e3, -0.5e3"
   ]
  },
  {
   "cell_type": "markdown",
   "metadata": {},
   "source": [
    "We need to know the position of the injection and production wells so the\n",
    "mesh can be refined in the vicinity. The injection well is in the centre\n",
    "(the corner of the quarter spot) and the production well is at (300,300)"
   ]
  },
  {
   "cell_type": "code",
   "execution_count": null,
   "metadata": {},
   "outputs": [],
   "source": [
    "injX, injY = 0., 0.\n",
    "proX, proY = 300., 300."
   ]
  },
  {
   "cell_type": "markdown",
   "metadata": {},
   "source": [
    "A power-law scaled node spacing will generate closer spacing nearer the\n",
    "injection and production locations."
   ]
  },
  {
   "cell_type": "code",
   "execution_count": null,
   "metadata": {},
   "outputs": [],
   "source": [
    "base = 3\n",
    "dx = proX / 2.\n",
    "x = dx ** (1 - base) * np.linspace(0, dx, 8) ** base\n",
    "dx2 = X1 - proX\n",
    "x2 = dx2 ** (1 - base) * np.linspace(0, dx2, 10) ** base\n",
    "X = np.sort(list(x) + list(2 * dx - x)[:-1] + list(2 * dx + x2)[1:])"
   ]
  },
  {
   "cell_type": "markdown",
   "metadata": {},
   "source": [
    "Injection and production will be hosted within an aquifer, confined above\n",
    "and below by a caprock. We need to define the extent of these formations."
   ]
  },
  {
   "cell_type": "code",
   "execution_count": null,
   "metadata": {},
   "outputs": [],
   "source": [
    "Za_base = -1.1e3\n",
    "Za_top = -800."
   ]
  },
  {
   "cell_type": "markdown",
   "metadata": {},
   "source": [
    "As all the action will be going on in the aquifer, we will want\n",
    "comparatively more nodes in there."
   ]
  },
  {
   "cell_type": "code",
   "execution_count": null,
   "metadata": {},
   "outputs": [],
   "source": [
    "Z = list(np.linspace(Z0, Za_base, 5)) + list(\n",
    "    np.linspace(Za_base, Za_top, 11))[1:] + list(\n",
    "    np.linspace(Za_top, Z1, 5))[1:]"
   ]
  },
  {
   "cell_type": "markdown",
   "metadata": {},
   "source": [
    "Now that the node positions have been defined, we can create the mesh\n",
    "using the fgrid.make() command."
   ]
  },
  {
   "cell_type": "code",
   "execution_count": null,
   "metadata": {},
   "outputs": [],
   "source": [
    "dat.grid.make('quarterGrid.inp', x=X, y=X, z=Z)\n",
    "dat.grid.plot('quarterGrid.png', angle=[45, 45], color='b',\n",
    "              cutaway=[proX, proY, -1000.])"
   ]
  },
  {
   "cell_type": "markdown",
   "metadata": {},
   "source": [
    "### ZONE CREATION\n",
    "This problem has three defined zones, a reservoir (denoted res) and upper\n",
    "and lower confining formations (denoted con). For simplicity, we will not\n",
    "assign different material properties to the two confining layers.\n",
    "\n",
    "Before we can assign material properties via the PERM, ROCK and COND\n",
    "macros, we need zones to which these macros can be assigned. As these\n",
    "zones are rectangular, we will define them using the new_zone() method,\n",
    "passing it the rect argument for a bounding box defined by two corner\n",
    "points. First the reservoir zone."
   ]
  },
  {
   "cell_type": "code",
   "execution_count": null,
   "metadata": {},
   "outputs": [],
   "source": [
    "dat.new_zone(10, name='reservoir',\n",
    "             rect=[[X0 - 0.1, X0 - 0.1, Za_base + 0.1],\n",
    "                   [X1 + 0.1, X1 + 0.1, Za_top - 0.1]])"
   ]
  },
  {
   "cell_type": "markdown",
   "metadata": {},
   "source": [
    "We can plot which nodes are contained in the reservoir zone to verify we\n",
    "have made the correct selection (see Figure 7.1)."
   ]
  },
  {
   "cell_type": "code",
   "execution_count": null,
   "metadata": {},
   "outputs": [],
   "source": [
    "dat.zone['reservoir'].plot('reservoirZone.png', color='g', angle=[30, 30])\n"
   ]
  },
  {
   "cell_type": "markdown",
   "metadata": {},
   "source": [
    "The two confining zones are generated similarly"
   ]
  },
  {
   "cell_type": "code",
   "execution_count": null,
   "metadata": {},
   "outputs": [],
   "source": [
    "dat.new_zone(20, name='confining_lower',\n",
    "             rect=[[X0 - 0.1, X0 - 0.1, Z0 - 0.1],\n",
    "                   [X1 + 0.1, X1 + 0.1, Za_base + 0.1]])\n",
    "dat.new_zone(21, name='confining_upper',\n",
    "             rect=[[X0 - 0.1, X0 - 0.1, Za_top - 0.1],\n",
    "                   [X1 + 0.1, X1 + 0.1, Z1 + 0.1]])"
   ]
  },
  {
   "cell_type": "markdown",
   "metadata": {},
   "source": [
    "### MATERIAL PROPERTY ASSIGNMENT\n",
    "First, declare some parameters: permeability (perm), density (rho),\n",
    "porosity (phi), thermal conductivity (cond), and specific heat (H)."
   ]
  },
  {
   "cell_type": "code",
   "execution_count": null,
   "metadata": {},
   "outputs": [],
   "source": [
    "perm_res, perm_con = 1.e-14, 1.e-16\n",
    "rho_res, rho_con = 2300., 2500.\n",
    "phi_res, phi_con = 0.1, 0.01\n",
    "cond = 2.5\n",
    "H = 1.e3"
   ]
  },
  {
   "cell_type": "markdown",
   "metadata": {},
   "source": [
    "Now, create a new fmacro object to which to assign reservoir permeability.\n",
    "For this first time, we will take an unnecessary number of steps to\n",
    "demonstrate macro assignment"
   ]
  },
  {
   "cell_type": "code",
   "execution_count": null,
   "metadata": {},
   "outputs": [],
   "source": [
    "perm = fmacro('perm')\n",
    "perm.zone = 'reservoir'\n",
    "perm.param['kx'] = perm_res\n",
    "perm.param['ky'] = perm_res\n",
    "perm.param['kz'] = perm_res\n",
    "dat.add(perm)"
   ]
  },
  {
   "cell_type": "markdown",
   "metadata": {},
   "source": [
    "In general, this process can be streamlined to a few or even a single\n",
    "step, e.g., assigning upper confining formation permeability"
   ]
  },
  {
   "cell_type": "code",
   "execution_count": null,
   "metadata": {},
   "outputs": [],
   "source": [
    "perm = fmacro('perm', zone=21,\n",
    "              param=(('kx', perm_con), ('ky', perm_con), ('kz', perm_con)))\n",
    "dat.add(perm)"
   ]
  },
  {
   "cell_type": "markdown",
   "metadata": {},
   "source": [
    "Permeability can also be assigned to a zone through its permeability\n",
    "attribute. Behind the scenes, PyFEHM takes care of the macro definition\n",
    "and zone association required by FEHM to assign this permeability."
   ]
  },
  {
   "cell_type": "code",
   "execution_count": null,
   "metadata": {},
   "outputs": [],
   "source": [
    "dat.zone['confining_lower'].permeability = perm_con\n"
   ]
  },
  {
   "cell_type": "markdown",
   "metadata": {},
   "source": [
    "Similarly, rock properties are defined either through a macro object, or\n",
    "by zone attributes, e.g., through a macro object..."
   ]
  },
  {
   "cell_type": "code",
   "execution_count": null,
   "metadata": {},
   "outputs": [],
   "source": [
    "dat.add(fmacro('rock', zone=dat.zone['reservoir'], param=(\n",
    "                ('density', rho_res),\n",
    "                ('specific_heat', H),\n",
    "                ('porosity', phi_res))))\n",
    "dat.add(fmacro('rock', zone=dat.zone['confining_lower'], param=(\n",
    "                ('density', rho_con),\n",
    "                ('specific_heat', H),\n",
    "                ('porosity', phi_con))))"
   ]
  },
  {
   "cell_type": "markdown",
   "metadata": {},
   "source": [
    "...or through zone attributes:"
   ]
  },
  {
   "cell_type": "code",
   "execution_count": null,
   "metadata": {},
   "outputs": [],
   "source": [
    "dat.zone['confining_upper'].density=rho_con\n",
    "dat.zone['confining_upper'].specific_heat=H\n",
    "dat.zone['confining_upper'].porosity=phi_con"
   ]
  },
  {
   "cell_type": "markdown",
   "metadata": {},
   "source": [
    "Thermal conductivity (COND) properties are to be the same everywhere, so\n",
    "we will use the conductivity attribute of zone 0."
   ]
  },
  {
   "cell_type": "code",
   "execution_count": null,
   "metadata": {},
   "outputs": [],
   "source": [
    "dat.zone[0].conductivity = cond"
   ]
  },
  {
   "cell_type": "markdown",
   "metadata": {},
   "source": [
    "### INJECTORS AND PRODUCERS\n",
    "The EGS problem requires both injection and production wells. To\n",
    "demonstrate some of FEHMs flexibility, we will include a source that\n",
    "injects cold fluid at a fixed rate, and a production well that operates\n",
    "against a specified production pressure.\n",
    "\n",
    "First we require a zone for each of the production and injection wells.\n",
    "For the injection well, we will consider fluid exiting the wellbore over\n",
    "an open-hole length, i.e., sources at multiple nodes. For the production\n",
    "well, we will consider a single feed-zone at a fixed depth, i.e., a single\n",
    "node sink.\n",
    "\n",
    "First define the open hole injection nodes. The aquifer extends from\n",
    "-1100 to -800 m depth; we will choose a 100 m open hole section between\n",
    "-1000 and -900 m. Nodes contained in this zone are well-defined by the\n",
    "bounding box approach of rect()."
   ]
  },
  {
   "cell_type": "code",
   "execution_count": null,
   "metadata": {},
   "outputs": [],
   "source": [
    "dat.new_zone(30, name='injection', rect=[[injX - 0.1, injY - 0.1, -1000.1],\n",
    "                                         [injX + 0.1, injY + 0.1, -899.9]])"
   ]
  },
  {
   "cell_type": "markdown",
   "metadata": {},
   "source": [
    "Note that, in general, it is good to enlarge the bounding box by some\n",
    "nominal amount (in this case, 0.1 m) to insure that the nodes are in fact\n",
    "bounded by the box.\n",
    "\n",
    "Now to define the production feed-zone; lets suppose that it is at the\n",
    "known depth of -950 m. As we want to find the node closest to this\n",
    "location, we will use the ```node_nearest_point()``` command."
   ]
  },
  {
   "cell_type": "code",
   "execution_count": null,
   "metadata": {},
   "outputs": [],
   "source": [
    "pro_node = dat.grid.node_nearest_point([proX, proY, -950])\n",
    "dat.new_zone(40, 'production', nodelist=pro_node)"
   ]
  },
  {
   "cell_type": "markdown",
   "metadata": {},
   "source": [
    "Now that the zones have been defined, we will assign mass flow generators\n",
    "via the FLOW and BOUN macros. First the production well, which is simply\n",
    "production against a fixed pressure, lets say 6 MPa. We will use the\n",
    "`fmacro('flow')` object with a non-zero impedance parameter indicating\n",
    "production against a fixed pressure."
   ]
  },
  {
   "cell_type": "code",
   "execution_count": null,
   "metadata": {},
   "outputs": [],
   "source": [
    "flow = fmacro('flow', zone='production',\n",
    "              param=(('rate', 6), ('energy', 30), ('impedance', 1.)))\n",
    "dat.add(flow)"
   ]
  },
  {
   "cell_type": "markdown",
   "metadata": {},
   "source": [
    "There are multiple nodes in the injection zone, but we wish to specify a single mass injection rate. The BOUN macro is useful for distributing a fixed source across multiple nodes. Recall that, in contrast to FLOW, BOUN has its own macro object, `fboun`"
   ]
  },
  {
   "cell_type": "code",
   "execution_count": null,
   "metadata": {},
   "outputs": [],
   "source": [
    "injRate=4.\n",
    "injTemp=60.\n",
    "boun=fboun(zone=['injection'], times=[0,1e10], variable=[['dsw',-injRate,-injRate], ['ft',injTemp,injTemp]]])\n",
    "dat.add(boun)"
   ]
  },
  {
   "cell_type": "markdown",
   "metadata": {},
   "source": [
    "This creates a source of 60&deg;C water, injecting at a rate of 2 kg/s, distributed evenly across all nodes in the ‘injection’ zone (‘dsw’ = distributed source water). By assigning a large value in boun.times we ensure that the source will continue to operate for the entire simulation."
   ]
  },
  {
   "cell_type": "markdown",
   "metadata": {},
   "source": [
    "### INITIAL CONDITIONS\n",
    "Before running the simulation we need to set up initial conditions for temperature and pressure. For simplicity, we will assume that gradients in both are linear from the surface, although more complex configurations can of course be accommodated.\n",
    "\n",
    "For the temperature field, we will use the GRAD macro, with a 70&deg;C / km temperature gradient, 25&deg;C surface temperature corresponding to z = 0. Again, by omitting the zone parameter when creating the fmacro object, the macro will automatically be applied to all nodes. More complex initial temperature distributions can be created by passing measured temperature profile data to the temperature_gradient() command."
   ]
  },
  {
   "cell_type": "code",
   "execution_count": null,
   "metadata": {},
   "outputs": [],
   "source": [
    "dat.add(fmacro('grad', param=(('reference_coord',0.),\n",
    "                              ('direction',3),\n",
    "                              ('variable',2),\n",
    "                              ('reference_value',25.),\n",
    "                              ('gradient',-0.06))))"
   ]
  },
  {
   "cell_type": "markdown",
   "metadata": {},
   "source": [
    "For the pressure distribution, we will assume this is initially hydrostatic, although FEHM will recalculate pressures based on the temperature dependent fluid density. Specifying the pressure distribution requires two macros: (i) a GRAD for the pressure gradient, and (ii) a fixed pressure, implemented by the fix_pressure() method, at the top surface representing the submerged upper surface of the model. First add the pressure gradient"
   ]
  },
  {
   "cell_type": "code",
   "execution_count": null,
   "metadata": {},
   "outputs": [],
   "source": [
    "dat.add(fmacro('grad', param=(('reference_coord',0.),\n",
    "                              ('direction',3),\n",
    "                              ('variable',1),\n",
    "                              ('reference_value',0.1),\n",
    "                              ('gradient',-9.81*1e3/1e6))))"
   ]
  },
  {
   "cell_type": "markdown",
   "metadata": {},
   "source": [
    "Upon grid initialisation, PyFEHM already created the zone for the top surface, assigned the key 'ZMAX'. We use the fix_pressure() method to assign surface pressure conditions"
   ]
  },
  {
   "cell_type": "code",
   "execution_count": null,
   "metadata": {},
   "outputs": [],
   "source": [
    "dat.zone['ZMAX'].fix_pressure(P=0.1+Z1*-9.81*1e3/1e6,\n",
    "                              T=25.+Z1*-0.06)"
   ]
  },
  {
   "cell_type": "markdown",
   "metadata": {},
   "source": [
    "### SETTING UP STRESSES\n",
    "Set up for a stress solution in FEHM requires (i) specification of material parameters relevant to mechanical deformation, e.g., Young’s modulus, thermal expansion coefficient, (ii) boundary conditions, either displacement or force, and (iii) optionally an initial stress state or (iv) a stress-permeability model. In this example we will include the first three features.\n",
    "\n",
    "Initial stress states are calculated and loaded in via FEHM’s restart or INCON file. This file also contains information on the restart of temperature and pressure; therefore, to perform a stress restart we first require the temperature and pressure restart information. The easiest way to obtain this is to run one time step of the model (without the stress solution) and request it to output a restart file at the end of the time step. We do this by setting the dat.files.rsto attribute to the name of the restart file."
   ]
  },
  {
   "cell_type": "code",
   "execution_count": null,
   "metadata": {},
   "outputs": [],
   "source": [
    "dat.dtn=1\n",
    "dat.files.rsto='EGS_INCON.ini'\n",
    "dat.run('EGS_flow_INPUT.dat')"
   ]
  },
  {
   "cell_type": "markdown",
   "metadata": {},
   "source": [
    "Note that, because we have not specified an FEHM executable in the exe argument of run, PyFEHM will automatically search for fehm.exe in the current working directory.\n",
    "\n",
    "Now that the model has run a single time step, the output restart file (containing only temperature and pressure data) can be read as an initial conditions file (fincon)."
   ]
  },
  {
   "cell_type": "code",
   "execution_count": null,
   "metadata": {},
   "outputs": [],
   "source": [
    "dat.incon.read('EGS_INCON.ini')"
   ]
  },
  {
   "cell_type": "markdown",
   "metadata": {},
   "source": [
    "Vertical gradients in the three principal stresses can be calculated using the fincon.stressgrad() command. In this case we will request that PyFEHM calculates the vertical load by integrating the variable density information supplied in fmacro['rock'], and the horizontal stresses as fractions of the vertical."
   ]
  },
  {
   "cell_type": "code",
   "execution_count": null,
   "metadata": {},
   "outputs": [],
   "source": [
    "dat.incon.stressgrad(xgrad=0.6, ygrad=0.8, zgrad=2500*abs(Z1)*9.81/1e6,\n",
    "                     calculate_vertical=True, vertical_fraction=True)"
   ]
  },
  {
   "cell_type": "markdown",
   "metadata": {},
   "source": [
    "Now to turn the stress solution on and assign material parameters to the various zones in the model. We will assign different deformation parameters (ELASTIC) to the reservoir and confining units, but assume that stress-flow coupling parameters (BIOT) are the same throughout. These are material properties and thus can be assigned using appropriate zone attributescalculate_vertical=True, vertical_fraction=True)"
   ]
  },
  {
   "cell_type": "code",
   "execution_count": null,
   "metadata": {},
   "outputs": [],
   "source": [
    "dat.strs.on()\n",
    "E_res, E_con = 2e3,2e4\n",
    "nu_res, nu_con = 0.15,0.35\n",
    "dat.zone['reservoir'].youngs_modulus=E_res\n",
    "dat.zone['confining_lower'].youngs_modulus=E_con\n",
    "dat.zone['confining_upper'].youngs_modulus=E_con\n",
    "dat.zone['reservoir'].poissons_ratio=nu_res\n",
    "dat.zone['confining_lower'].poissons_ratio=nu_con\n",
    "dat.zone['confining_upper'].poissons_ratio=nu_con\n",
    "dat.zone[0].thermal_expansion=3.e-5\n",
    "dat.zone[0].pressure_coupling=1."
   ]
  },
  {
   "cell_type": "markdown",
   "metadata": {},
   "source": [
    "Because we have prescribed the initial stress state, boundary conditions and body forces to not need to reflect gravitational or tectonic loading. For this reason, we should turn body force calculations off, and assign fixed displacement boundary conditions to prevent model drift (roller boundary conditions on the x=0, y=0 and z=0 planes). Note that these zones already exist, automatically created by PyFEHM with the names 'XMIN', 'YMIN' and 'ZMIN'. Furthermore, it is advisable when defining boundary conditions to pass the write_one_macro=True argument - this improves stability of the stress solution."
   ]
  },
  {
   "cell_type": "code",
   "execution_count": null,
   "metadata": {},
   "outputs": [],
   "source": [
    "dat.strs.fem=1.\n",
    "dat.strs.bodyforce=0.\n",
    "dat.sol['element_integration_INTG']=-1\n",
    "dat.add(fmacro('stressboun', zone=60, subtype='fixed', param=(('direction',1), ('value',0))))\n",
    "dat.add(fmacro('stressboun', zone=61, subtype='fixed', param=(('direction',2), ('value',0))))\n",
    "dat.add(fmacro('stressboun', zone=62, subtype='fixed', param=(('direction',3), ('value',0))))"
   ]
  },
  {
   "cell_type": "markdown",
   "metadata": {},
   "source": [
    "Note that, for a well-behaved model I have set the dat.strs.fem and dat.sol['element_integration_INTG'] attributes to particular values - mess with these at your peril."
   ]
  },
  {
   "cell_type": "code",
   "execution_count": null,
   "metadata": {},
   "outputs": [],
   "source": []
  },
  {
   "cell_type": "code",
   "execution_count": null,
   "metadata": {},
   "outputs": [],
   "source": []
  },
  {
   "cell_type": "code",
   "execution_count": null,
   "metadata": {},
   "outputs": [],
   "source": []
  },
  {
   "cell_type": "code",
   "execution_count": null,
   "metadata": {},
   "outputs": [],
   "source": []
  }
 ],
 "metadata": {
  "kernelspec": {
   "display_name": "Python [conda env:pyFEHM]",
   "language": "python",
   "name": "conda-env-pyFEHM-py"
  },
  "language_info": {
   "codemirror_mode": {
    "name": "ipython",
    "version": 2
   },
   "file_extension": ".py",
   "mimetype": "text/x-python",
   "name": "python",
   "nbconvert_exporter": "python",
   "pygments_lexer": "ipython2",
   "version": "2.7.14"
  }
 },
 "nbformat": 4,
 "nbformat_minor": 2
}
